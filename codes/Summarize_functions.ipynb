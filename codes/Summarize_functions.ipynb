{
 "cells": [
  {
   "cell_type": "code",
   "execution_count": 1,
   "metadata": {},
   "outputs": [],
   "source": [
    "import pandas as pd\n",
    "import matplotlib.pyplot as plt\n",
    "import datetime\n",
    "import numpy as np\n",
    "from pandas.core.frame import DataFrame\n",
    "%matplotlib inline"
   ]
  },
  {
   "cell_type": "code",
   "execution_count": 2,
   "metadata": {},
   "outputs": [],
   "source": [
    "# read csv files\n",
    "master_df = pd.read_csv('ieso_ga_master_dataset_allWeather_updated2020.csv')"
   ]
  },
  {
   "cell_type": "code",
   "execution_count": 3,
   "metadata": {},
   "outputs": [],
   "source": [
    "forecast_df = pd.read_csv('ga_forecasts_top_2.csv')"
   ]
  },
  {
   "cell_type": "code",
   "execution_count": 4,
   "metadata": {},
   "outputs": [],
   "source": [
    "def pre_master_dataset(master_df):\n",
    "# Load and copy data\n",
    "    df = master_df.copy()\n",
    "# cleaning and processing data\n",
    "    df.rename(columns={'timestamp_eastern': 'ts'}, inplace=True)\n",
    "    temp = pd.DatetimeIndex(df['ts'])\n",
    "    df['Date'] = temp.date\n",
    "    df['Time'] = temp.time\n",
    "    df['hourss'] = temp.hour\n",
    "    df['year'] = temp.year\n",
    "    df['month'] = temp.month\n",
    "    df['ts'] = pd.to_datetime(df['ts'])\n",
    "    cols_to_keep = ['season','adjusted_demand_MW','demand_MW','hour_ending_eastern','ts']\n",
    "    df = df[cols_to_keep]\n",
    "    df['ts'] = pd.to_datetime(df['ts'])\n",
    "    df['rankings_per_day'] = df.groupby(['season', df.ts.dt.date]).demand_MW.rank(ascending=False)\n",
    "    df = df[df['rankings_per_day'] == 1]\n",
    "    df.reset_index(drop=True, inplace=True)\n",
    "# Group by season and rank by adjusted_demand_MW\n",
    "    df['rankings_per_season'] = df.groupby(['season']).demand_MW.rank(ascending=False)\n",
    "    return df "
   ]
  },
  {
   "cell_type": "code",
   "execution_count": 5,
   "metadata": {},
   "outputs": [],
   "source": [
    "def pre_forecast_dataset(forecast_df):\n",
    "    df3 = forecast_df.copy()\n",
    "    temp = pd.DatetimeIndex(df3['ts'])\n",
    "    df3['Date'] = temp.date\n",
    "    df3['Time'] = temp.time\n",
    "    df3['hourss'] = temp.hour\n",
    "    df3['year'] = temp.year\n",
    "    df3['month'] = temp.month\n",
    "    df3['ts'] = pd.to_datetime(df3['ts'])\n",
    "    df3['ts_future'] = pd.to_datetime(df3['ts_future'])\n",
    "    cols_to_keep = ['ts', 'ts_future','forecast']\n",
    "    df3 = df3[cols_to_keep]\n",
    "    df_ten = df3[(df3.ts.dt.time == datetime.time(10,0))]\n",
    "    df_ten = df_ten[['forecast','ts','ts_future']]\n",
    "    df_ten.rename(columns={'ts': 'ts_main'}, inplace=True)\n",
    "    df_ten.rename(columns={'ts_future': 'ts'}, inplace=True)\n",
    "    df_ten = df_ten[['forecast','ts']]\n",
    "    return df_ten"
   ]
  },
  {
   "cell_type": "code",
   "execution_count": 6,
   "metadata": {},
   "outputs": [],
   "source": [
    "def merge_forecast_top_priority(master_df,forecast_df):\n",
    "    dff = pre_master_dataset(master_df) \n",
    "    dff2 = pre_forecast_dataset(forecast_df)\n",
    "    df_merge = dff.merge(dff2,on='ts')\n",
    "    df_merge['predict']=(df_merge.forecast>0).astype(int)\n",
    "    return df_merge"
   ]
  },
  {
   "cell_type": "code",
   "execution_count": 7,
   "metadata": {},
   "outputs": [],
   "source": [
    "def top_priority(master_df,forecast_df):\n",
    "    num = [1,3,5,10,20]\n",
    "    new = []\n",
    "    data = merge_forecast_top_priority(master_df,forecast_df)\n",
    "    df = data.copy()  \n",
    "    for i in df.groupby('season'):\n",
    "        for j in num:\n",
    "            df = df[(df.rankings_per_season <= j)]\n",
    "        new.append(df)\n",
    "    return new"
   ]
  },
  {
   "cell_type": "code",
   "execution_count": 8,
   "metadata": {},
   "outputs": [],
   "source": [
    "def Accuracy(master_df,forecast_df):\n",
    "    num = [1,3,5,10,20]\n",
    "    new = []\n",
    "    data = merge_forecast_top_priority(master_df,forecast_df)\n",
    "    df = data.copy()\n",
    "    \n",
    "    for i in df.groupby('season'):\n",
    "        for j in num:\n",
    "            tmp=df[(df['season']==i[0]) & (df['rankings_per_season']<=j)]\n",
    "            \n",
    "            test=tmp.forecast.apply(lambda x: (x>0))\n",
    "            df=df[df['rankings_per_season']<=20]\n",
    "            dff_uni=pd.unique(df['hour_ending_eastern'])\n",
    "            peak = df['hour_ending_eastern']\n",
    "                        \n",
    "            count=0            \n",
    "            for k,v in test.items():\n",
    "                if v==True:\n",
    "                    count+=1 \n",
    "    \n",
    "            \n",
    "            row={\n",
    "                'season': i[0],\n",
    "                'top_n' : j,\n",
    "                'success': count,\n",
    "                'Hit rate': count/j\n",
    "            }\n",
    "            \n",
    "            for peak_hr in dff_uni:\n",
    "                df_peak_hr = tmp[tmp['hour_ending_eastern']== peak_hr]\n",
    "                row[peak_hr] =f'{df_peak_hr.predict.sum()}/{df_peak_hr.predict.count()}'  \n",
    "            new.append(row)\n",
    "        final_df =pd.DataFrame(new)\n",
    "\n",
    "    \n",
    "    return final_df"
   ]
  }
 ],
 "metadata": {
  "kernelspec": {
   "display_name": "Python 3",
   "language": "python",
   "name": "python3"
  },
  "language_info": {
   "codemirror_mode": {
    "name": "ipython",
    "version": 3
   },
   "file_extension": ".py",
   "mimetype": "text/x-python",
   "name": "python",
   "nbconvert_exporter": "python",
   "pygments_lexer": "ipython3",
   "version": "3.7.6"
  }
 },
 "nbformat": 4,
 "nbformat_minor": 4
}
